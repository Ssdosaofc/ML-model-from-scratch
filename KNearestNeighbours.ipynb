{
  "nbformat": 4,
  "nbformat_minor": 0,
  "metadata": {
    "colab": {
      "provenance": [],
      "mount_file_id": "1Z6Ww23JuHeOxU4Z0-J1DaUSn7K2WgDGv",
      "authorship_tag": "ABX9TyMnWPBXKamNYaI3xamSdOrw",
      "include_colab_link": true
    },
    "kernelspec": {
      "name": "python3",
      "display_name": "Python 3"
    },
    "language_info": {
      "name": "python"
    }
  },
  "cells": [
    {
      "cell_type": "markdown",
      "metadata": {
        "id": "view-in-github",
        "colab_type": "text"
      },
      "source": [
        "<a href=\"https://colab.research.google.com/github/Ssdosaofc/ML-model-from-scratch/blob/main/KNearestNeighbours.ipynb\" target=\"_parent\"><img src=\"https://colab.research.google.com/assets/colab-badge.svg\" alt=\"Open In Colab\"/></a>"
      ]
    },
    {
      "cell_type": "code",
      "execution_count": 1,
      "metadata": {
        "id": "0wL0jmUsNGF2"
      },
      "outputs": [],
      "source": [
        "import numpy as np\n",
        "import matplotlib.pyplot as plt\n",
        "import pandas as pd\n",
        "import matplotlib\n",
        "import statistics\n",
        "%matplotlib inline"
      ]
    },
    {
      "cell_type": "code",
      "execution_count": 2,
      "metadata": {
        "id": "vvjVfcHqNQht"
      },
      "outputs": [],
      "source": [
        "train = pd.read_csv(\"/content/drive/MyDrive/ML/Classification_train.csv\")\n",
        "test = pd.read_csv(\"/content/drive/MyDrive/ML/Classification_test.csv\")"
      ]
    },
    {
      "cell_type": "code",
      "execution_count": 3,
      "metadata": {
        "id": "FuVlKvLWRVoL"
      },
      "outputs": [],
      "source": [
        "def test_train_split(x):\n",
        "  x = np.array(x)\n",
        "  train_proportion = 0.6\n",
        "  train_test_cut = int(len(x)*train_proportion)\n",
        "\n",
        "  train_data,cv_data = \\\n",
        "      x[:train_test_cut], \\\n",
        "      x[train_test_cut:]\n",
        "\n",
        "  return train_data,cv_data"
      ]
    },
    {
      "cell_type": "code",
      "source": [
        "train_data,cv_data = test_train_split(train)"
      ],
      "metadata": {
        "id": "7ZkvwqnTfCe8"
      },
      "execution_count": 4,
      "outputs": []
    },
    {
      "cell_type": "code",
      "source": [
        "a,b = train_data.shape\n",
        "b"
      ],
      "metadata": {
        "colab": {
          "base_uri": "https://localhost:8080/"
        },
        "id": "0--bHB4x7Opr",
        "outputId": "d4339817-3d14-4aa6-84bc-49b4a079ad46"
      },
      "execution_count": 5,
      "outputs": [
        {
          "output_type": "execute_result",
          "data": {
            "text/plain": [
              "785"
            ]
          },
          "metadata": {},
          "execution_count": 5
        }
      ]
    },
    {
      "cell_type": "code",
      "source": [
        "def get_distance(distance_formula,train_data_point,test_data_point,b):\n",
        "  x_train = train_data_point[1:b]\n",
        "  x_test = test_data_point[1:b]\n",
        "  if(distance_formula == 'euclidean'):\n",
        "    dist = np.sum((x_train-x_test)**2)\n",
        "    eucl_dist = np.sqrt(dist)\n",
        "    return eucl_dist\n",
        "  if(distance_formula == 'manhattan'):\n",
        "    manhattan_dist = np.sum(abs(x_train-x_test))\n",
        "    return manhattan_dist"
      ],
      "metadata": {
        "id": "ibD3ZqgzufyO"
      },
      "execution_count": 6,
      "outputs": []
    },
    {
      "cell_type": "code",
      "source": [
        "def nearest_neighbours(distance_formula,x_train,test_data,k):\n",
        "  a,b = x_train.shape\n",
        "  distance_list=[]\n",
        "  for i in range(a):\n",
        "    distance = get_distance(distance_formula,x_train[i],test_data,b)\n",
        "    individual_dist = [x_train[i],distance]\n",
        "    distance_list.append(individual_dist)\n",
        "\n",
        "  distance_list.sort(key = lambda x:x[1])\n",
        "\n",
        "  neighbours_list = []\n",
        "  for i in range(k):\n",
        "    neighbours_list.append(distance_list[i][0])\n",
        "\n",
        "  return neighbours_list"
      ],
      "metadata": {
        "id": "g24MNZtwymCI"
      },
      "execution_count": 7,
      "outputs": []
    },
    {
      "cell_type": "code",
      "source": [
        "def predict(distance_formula,x_train,test_data,k):\n",
        "  neighbours = nearest_neighbours(distance_formula,x_train,test_data,k)\n",
        "\n",
        "  label=[]\n",
        "  for data in neighbours:\n",
        "    label.append(data[0])\n",
        "\n",
        "  pred_class = statistics.mode(label)\n",
        "\n",
        "  return pred_class"
      ],
      "metadata": {
        "id": "TmTiYN0Ayxn1"
      },
      "execution_count": 8,
      "outputs": []
    },
    {
      "cell_type": "code",
      "execution_count": 9,
      "metadata": {
        "id": "iPlobPurpBt4"
      },
      "outputs": [],
      "source": [
        "def accuracy(pred,y):\n",
        "  return np.sum(pred==y)/y.size"
      ]
    },
    {
      "cell_type": "code",
      "source": [
        "k=5"
      ],
      "metadata": {
        "id": "WgotFoLv0Stw"
      },
      "execution_count": 26,
      "outputs": []
    },
    {
      "cell_type": "code",
      "source": [
        "def plot_digit(number):\n",
        "    prediction = predict('euclidean',train_data,number,k)\n",
        "\n",
        "    pixels = number[1:].reshape(28,28)\n",
        "\n",
        "    plt.imshow(pixels)\n",
        "    plt.axis(\"off\")\n",
        "    plt.show()\n",
        "    print(f\"label: {number[0]}, prediction: {prediction}\")\n",
        "\n",
        "plot_digit(cv_data[750])\n",
        "plot_digit(cv_data[370])\n",
        "plot_digit(cv_data[69])"
      ],
      "metadata": {
        "colab": {
          "base_uri": "https://localhost:8080/",
          "height": 1000
        },
        "id": "xNx569YVbfY1",
        "outputId": "27eb617c-a120-4d2e-e9dd-4b84fb681bb0"
      },
      "execution_count": 30,
      "outputs": [
        {
          "output_type": "display_data",
          "data": {
            "text/plain": [
              "<Figure size 640x480 with 1 Axes>"
            ],
            "image/png": "[encoded data removed]"
          },
          "metadata": {}
        },
        {
          "output_type": "stream",
          "name": "stdout",
          "text": [
            "label: 6, prediction: 6\n"
          ]
        },
        {
          "output_type": "display_data",
          "data": {
            "text/plain": [
              "<Figure size 640x480 with 1 Axes>"
            ],
            "image/png": "[encoded data removed]"
          },
          "metadata": {}
        },
        {
          "output_type": "stream",
          "name": "stdout",
          "text": [
            "label: 0, prediction: 0\n"
          ]
        },
        {
          "output_type": "display_data",
          "data": {
            "text/plain": [
              "<Figure size 640x480 with 1 Axes>"
            ],
            "image/png": "[encoded data removed]"
          },
          "metadata": {}
        },
        {
          "output_type": "stream",
          "name": "stdout",
          "text": [
            "label: 9, prediction: 9\n"
          ]
        }
      ]
    },
    {
      "cell_type": "code",
      "source": [
        "m,n = cv_data.shape\n",
        "y_pred_euc = []\n",
        "for i in range(2000):\n",
        "  pred = predict('euclidean',train_data,cv_data[i],k)\n",
        "  y_pred_euc.append(pred)\n",
        "print(accuracy(y_pred_euc,cv_data[:2000,0].T))"
      ],
      "metadata": {
        "id": "W2pDsDqT80t0",
        "colab": {
          "base_uri": "https://localhost:8080/"
        },
        "outputId": "c7467dcb-38c6-4ebb-8e96-cebdae68aeb4"
      },
      "execution_count": 31,
      "outputs": [
        {
          "output_type": "stream",
          "name": "stdout",
          "text": [
            "0.97\n"
          ]
        }
      ]
    },
    {
      "cell_type": "code",
      "source": [
        "y_pred_manh = []\n",
        "for i in range(2000):\n",
        "  pred = predict('manhattan',train_data,cv_data[i],k)\n",
        "  y_pred_manh.append(pred)\n",
        "print(accuracy(y_pred_manh,cv_data[:2000,0].T))"
      ],
      "metadata": {
        "colab": {
          "base_uri": "https://localhost:8080/"
        },
        "id": "0GGAU9I0ZGR7",
        "outputId": "d95e669b-3cc6-40bb-9594-303f066e4673"
      },
      "execution_count": 32,
      "outputs": [
        {
          "output_type": "stream",
          "name": "stdout",
          "text": [
            "0.97\n"
          ]
        }
      ]
    },
    {
      "cell_type": "code",
      "source": [
        "def test_digit(number):\n",
        "    prediction = predict('euclidean',train_data,number,k)\n",
        "\n",
        "    pixels = number[1:].reshape(28,28)\n",
        "\n",
        "    plt.imshow(pixels)\n",
        "    plt.axis(\"off\")\n",
        "    plt.show()\n",
        "    print(f\"ID: {number[0]}, prediction: {prediction}\")\n",
        "\n",
        "test_digit(np.array(test)[908])"
      ],
      "metadata": {
        "colab": {
          "base_uri": "https://localhost:8080/",
          "height": 424
        },
        "id": "O24-DXU8i_fS",
        "outputId": "348b82c7-9881-4c33-9fb6-051bdaabdcd6"
      },
      "execution_count": 41,
      "outputs": [
        {
          "output_type": "display_data",
          "data": {
            "text/plain": [
              "<Figure size 640x480 with 1 Axes>"
            ],
            "image/png": "[encoded data removed]"
          },
          "metadata": {}
        },
        {
          "output_type": "stream",
          "name": "stdout",
          "text": [
            "ID: 18381, prediction: 8\n"
          ]
        }
      ]
    },
    {
      "cell_type": "markdown",
      "source": [
        "# Source Code"
      ],
      "metadata": {
        "id": "cLEkESLs8wzD"
      }
    },
    {
      "cell_type": "code",
      "source": [
        "class KNN():\n",
        "  def __init__(self,distance_formula):\n",
        "    self.get_distance = distance_formula\n",
        "\n",
        "  def get_distance(self,train_data_point,test_data_point):\n",
        "    if(self.distance_formula == 'euclidean'):\n",
        "      dist = np.sum((train_data_point-test_data_point)**2)\n",
        "      eucl_dist = np.sqrt(dist)\n",
        "      return eucl_dist\n",
        "    if(self.distance_formula == 'manhattan'):\n",
        "      manhattan_dist = np.sum(abs(train_data_point-test_data_point))\n",
        "      return manhattan_dist\n",
        "\n",
        "  def nearest_neighbours(self,x_train,test_data,k):\n",
        "    distance_list=[]\n",
        "    for training_data in x_train:\n",
        "      distance = self.get_distance(training_data,test_data)\n",
        "      distance_list.append(training_data,distance)\n",
        "    distance_list.sort(key = lambda x:x[1])\n",
        "\n",
        "    neighbours_list = []\n",
        "    for i in range(k):\n",
        "      neighbours_list.append(distance_list[i][0])\n",
        "\n",
        "    return neighbours_list\n",
        "  def predict(self,x_train,test_data,k):\n",
        "    neighbours = self.nearest_neighbours(x_train,test_data,k)\n",
        "\n",
        "    label=[]\n",
        "    for data in neighbours:\n",
        "      label.append(data[0])\n",
        "\n",
        "    pred_class = statistics.mode(label)\n",
        "\n",
        "    return pred_class"
      ],
      "metadata": {
        "id": "eUmPdd6HmHjz"
      },
      "execution_count": null,
      "outputs": []
    }
  ]
}