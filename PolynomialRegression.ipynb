{
  "nbformat": 4,
  "nbformat_minor": 0,
  "metadata": {
    "colab": {
      "provenance": [],
      "mount_file_id": "19r4_bWUnPpUuG-BTpduJxPcE0NHOQ695",
      "authorship_tag": "ABX9TyM0Wb0NqEoFimc9nUYcKzvp",
      "include_colab_link": true
    },
    "kernelspec": {
      "name": "python3",
      "display_name": "Python 3"
    },
    "language_info": {
      "name": "python"
    }
  },
  "cells": [
    {
      "cell_type": "markdown",
      "metadata": {
        "id": "view-in-github",
        "colab_type": "text"
      },
      "source": [
        "<a href=\"https://colab.research.google.com/github/Ssdosaofc/ML-model-from-scratch/blob/main/PolynomialRegression.ipynb\" target=\"_parent\"><img src=\"https://colab.research.google.com/assets/colab-badge.svg\" alt=\"Open In Colab\"/></a>"
      ]
    },
    {
      "cell_type": "code",
      "execution_count": null,
      "metadata": {
        "id": "D0IGuoZ259u0"
      },
      "outputs": [],
      "source": [
        "import numpy as np\n",
        "import matplotlib.pyplot as plt\n",
        "import pandas as pd\n",
        "import io\n",
        "import csv\n",
        "import copy, math\n",
        "\n",
        "%matplotlib inline"
      ]
    },
    {
      "cell_type": "code",
      "source": [
        "from google.colab import drive\n",
        "drive.mount('/content/drive')"
      ],
      "metadata": {
        "colab": {
          "base_uri": "https://localhost:8080/"
        },
        "id": "rOpYbxjP6VzR",
        "outputId": "cc20e01f-26a4-4783-a6a5-1b5e12fe6e12"
      },
      "execution_count": null,
      "outputs": [
        {
          "output_type": "stream",
          "name": "stdout",
          "text": [
            "Drive already mounted at /content/drive; to attempt to forcibly remount, call drive.mount(\"/content/drive\", force_remount=True).\n"
          ]
        }
      ]
    },
    {
      "cell_type": "code",
      "source": [
        "train = pd.read_csv(\"/content/drive/MyDrive/ML/Polynomialdata_train.csv\")\n",
        "test = pd.read_csv(\"/content/drive/MyDrive/ML/Polynomialdata_test.csv\")"
      ],
      "metadata": {
        "id": "JKcBcisa6aVy"
      },
      "execution_count": null,
      "outputs": []
    },
    {
      "cell_type": "code",
      "source": [
        "train.head()"
      ],
      "metadata": {
        "colab": {
          "base_uri": "https://localhost:8080/",
          "height": 206
        },
        "id": "vIl20YmBukSZ",
        "outputId": "277f0157-1894-40c1-9722-a4c7f17b1e7b"
      },
      "execution_count": null,
      "outputs": [
        {
          "output_type": "execute_result",
          "data": {
            "text/plain": [
              "         target  feature 1  feature 2  feature 3\n",
              "0  4.131528e+06   5.221849   7.295111  95.716846\n",
              "1  3.172975e-01  -5.106284   4.220085  -6.172360\n",
              "2  4.676422e+04  -4.218053  -7.573823 -39.493884\n",
              "3  1.404175e+05 -18.439122  -2.275148 -40.885857\n",
              "4  4.788988e+03  13.353046   3.103837  18.622367"
            ],
            "text/html": [
              "\n",
              "  <div id=\"df-4b3b4fcd-9400-4691-bbf4-56cdbf43d3a0\" class=\"colab-df-container\">\n",
              "    <div>\n",
              "<style scoped>\n",
              "    .dataframe tbody tr th:only-of-type {\n",
              "        vertical-align: middle;\n",
              "    }\n",
              "\n",
              "    .dataframe tbody tr th {\n",
              "        vertical-align: top;\n",
              "    }\n",
              "\n",
              "    .dataframe thead th {\n",
              "        text-align: right;\n",
              "    }\n",
              "</style>\n",
              "<table border=\"1\" class=\"dataframe\">\n",
              "  <thead>\n",
              "    <tr style=\"text-align: right;\">\n",
              "      <th></th>\n",
              "      <th>target</th>\n",
              "      <th>feature 1</th>\n",
              "      <th>feature 2</th>\n",
              "      <th>feature 3</th>\n",
              "    </tr>\n",
              "  </thead>\n",
              "  <tbody>\n",
              "    <tr>\n",
              "      <th>0</th>\n",
              "      <td>4.131528e+06</td>\n",
              "      <td>5.221849</td>\n",
              "      <td>7.295111</td>\n",
              "      <td>95.716846</td>\n",
              "    </tr>\n",
              "    <tr>\n",
              "      <th>1</th>\n",
              "      <td>3.172975e-01</td>\n",
              "      <td>-5.106284</td>\n",
              "      <td>4.220085</td>\n",
              "      <td>-6.172360</td>\n",
              "    </tr>\n",
              "    <tr>\n",
              "      <th>2</th>\n",
              "      <td>4.676422e+04</td>\n",
              "      <td>-4.218053</td>\n",
              "      <td>-7.573823</td>\n",
              "      <td>-39.493884</td>\n",
              "    </tr>\n",
              "    <tr>\n",
              "      <th>3</th>\n",
              "      <td>1.404175e+05</td>\n",
              "      <td>-18.439122</td>\n",
              "      <td>-2.275148</td>\n",
              "      <td>-40.885857</td>\n",
              "    </tr>\n",
              "    <tr>\n",
              "      <th>4</th>\n",
              "      <td>4.788988e+03</td>\n",
              "      <td>13.353046</td>\n",
              "      <td>3.103837</td>\n",
              "      <td>18.622367</td>\n",
              "    </tr>\n",
              "  </tbody>\n",
              "</table>\n",
              "</div>\n",
              "    <div class=\"colab-df-buttons\">\n",
              "\n",
              "  <div class=\"colab-df-container\">\n",
              "    <button class=\"colab-df-convert\" onclick=\"convertToInteractive('df-4b3b4fcd-9400-4691-bbf4-56cdbf43d3a0')\"\n",
              "            title=\"Convert this dataframe to an interactive table.\"\n",
              "            style=\"display:none;\">\n",
              "\n",
              "  <svg xmlns=\"http://www.w3.org/2000/svg\" height=\"24px\" viewBox=\"0 -960 960 960\">\n",
              "    <path d=\"M120-120v-720h720v720H120Zm60-500h600v-160H180v160Zm220 220h160v-160H400v160Zm0 220h160v-160H400v160ZM180-400h160v-160H180v160Zm440 0h160v-160H620v160ZM180-180h160v-160H180v160Zm440 0h160v-160H620v160Z\"/>\n",
              "  </svg>\n",
              "    </button>\n",
              "\n",
              "  <style>\n",
              "    .colab-df-container {\n",
              "      display:flex;\n",
              "      gap: 12px;\n",
              "    }\n",
              "\n",
              "    .colab-df-convert {\n",
              "      background-color: #E8F0FE;\n",
              "      border: none;\n",
              "      border-radius: 50%;\n",
              "      cursor: pointer;\n",
              "      display: none;\n",
              "      fill: #1967D2;\n",
              "      height: 32px;\n",
              "      padding: 0 0 0 0;\n",
              "      width: 32px;\n",
              "    }\n",
              "\n",
              "    .colab-df-convert:hover {\n",
              "      background-color: #E2EBFA;\n",
              "      box-shadow: 0px 1px 2px rgba(60, 64, 67, 0.3), 0px 1px 3px 1px rgba(60, 64, 67, 0.15);\n",
              "      fill: #174EA6;\n",
              "    }\n",
              "\n",
              "    .colab-df-buttons div {\n",
              "      margin-bottom: 4px;\n",
              "    }\n",
              "\n",
              "    [theme=dark] .colab-df-convert {\n",
              "      background-color: #3B4455;\n",
              "      fill: #D2E3FC;\n",
              "    }\n",
              "\n",
              "    [theme=dark] .colab-df-convert:hover {\n",
              "      background-color: #434B5C;\n",
              "      box-shadow: 0px 1px 3px 1px rgba(0, 0, 0, 0.15);\n",
              "      filter: drop-shadow(0px 1px 2px rgba(0, 0, 0, 0.3));\n",
              "      fill: #FFFFFF;\n",
              "    }\n",
              "  </style>\n",
              "\n",
              "    <script>\n",
              "      const buttonEl =\n",
              "        document.querySelector('#df-4b3b4fcd-9400-4691-bbf4-56cdbf43d3a0 button.colab-df-convert');\n",
              "      buttonEl.style.display =\n",
              "        google.colab.kernel.accessAllowed ? 'block' : 'none';\n",
              "\n",
              "      async function convertToInteractive(key) {\n",
              "        const element = document.querySelector('#df-4b3b4fcd-9400-4691-bbf4-56cdbf43d3a0');\n",
              "        const dataTable =\n",
              "          await google.colab.kernel.invokeFunction('convertToInteractive',\n",
              "                                                    [key], {});\n",
              "        if (!dataTable) return;\n",
              "\n",
              "        const docLinkHtml = 'Like what you see? Visit the ' +\n",
              "          '<a target=\"_blank\" href=https://colab.research.google.com/notebooks/data_table.ipynb>data table notebook</a>'\n",
              "          + ' to learn more about interactive tables.';\n",
              "        element.innerHTML = '';\n",
              "        dataTable['output_type'] = 'display_data';\n",
              "        await google.colab.output.renderOutput(dataTable, element);\n",
              "        const docLink = document.createElement('div');\n",
              "        docLink.innerHTML = docLinkHtml;\n",
              "        element.appendChild(docLink);\n",
              "      }\n",
              "    </script>\n",
              "  </div>\n",
              "\n",
              "\n",
              "<div id=\"df-d1583891-87f1-4614-8e83-830b5159d99e\">\n",
              "  <button class=\"colab-df-quickchart\" onclick=\"quickchart('df-d1583891-87f1-4614-8e83-830b5159d99e')\"\n",
              "            title=\"Suggest charts\"\n",
              "            style=\"display:none;\">\n",
              "\n",
              "<svg xmlns=\"http://www.w3.org/2000/svg\" height=\"24px\"viewBox=\"0 0 24 24\"\n",
              "     width=\"24px\">\n",
              "    <g>\n",
              "        <path d=\"M19 3H5c-1.1 0-2 .9-2 2v14c0 1.1.9 2 2 2h14c1.1 0 2-.9 2-2V5c0-1.1-.9-2-2-2zM9 17H7v-7h2v7zm4 0h-2V7h2v10zm4 0h-2v-4h2v4z\"/>\n",
              "    </g>\n",
              "</svg>\n",
              "  </button>\n",
              "\n",
              "<style>\n",
              "  .colab-df-quickchart {\n",
              "      --bg-color: #E8F0FE;\n",
              "      --fill-color: #1967D2;\n",
              "      --hover-bg-color: #E2EBFA;\n",
              "      --hover-fill-color: #174EA6;\n",
              "      --disabled-fill-color: #AAA;\n",
              "      --disabled-bg-color: #DDD;\n",
              "  }\n",
              "\n",
              "  [theme=dark] .colab-df-quickchart {\n",
              "      --bg-color: #3B4455;\n",
              "      --fill-color: #D2E3FC;\n",
              "      --hover-bg-color: #434B5C;\n",
              "      --hover-fill-color: #FFFFFF;\n",
              "      --disabled-bg-color: #3B4455;\n",
              "      --disabled-fill-color: #666;\n",
              "  }\n",
              "\n",
              "  .colab-df-quickchart {\n",
              "    background-color: var(--bg-color);\n",
              "    border: none;\n",
              "    border-radius: 50%;\n",
              "    cursor: pointer;\n",
              "    display: none;\n",
              "    fill: var(--fill-color);\n",
              "    height: 32px;\n",
              "    padding: 0;\n",
              "    width: 32px;\n",
              "  }\n",
              "\n",
              "  .colab-df-quickchart:hover {\n",
              "    background-color: var(--hover-bg-color);\n",
              "    box-shadow: 0 1px 2px rgba(60, 64, 67, 0.3), 0 1px 3px 1px rgba(60, 64, 67, 0.15);\n",
              "    fill: var(--button-hover-fill-color);\n",
              "  }\n",
              "\n",
              "  .colab-df-quickchart-complete:disabled,\n",
              "  .colab-df-quickchart-complete:disabled:hover {\n",
              "    background-color: var(--disabled-bg-color);\n",
              "    fill: var(--disabled-fill-color);\n",
              "    box-shadow: none;\n",
              "  }\n",
              "\n",
              "  .colab-df-spinner {\n",
              "    border: 2px solid var(--fill-color);\n",
              "    border-color: transparent;\n",
              "    border-bottom-color: var(--fill-color);\n",
              "    animation:\n",
              "      spin 1s steps(1) infinite;\n",
              "  }\n",
              "\n",
              "  @keyframes spin {\n",
              "    0% {\n",
              "      border-color: transparent;\n",
              "      border-bottom-color: var(--fill-color);\n",
              "      border-left-color: var(--fill-color);\n",
              "    }\n",
              "    20% {\n",
              "      border-color: transparent;\n",
              "      border-left-color: var(--fill-color);\n",
              "      border-top-color: var(--fill-color);\n",
              "    }\n",
              "    30% {\n",
              "      border-color: transparent;\n",
              "      border-left-color: var(--fill-color);\n",
              "      border-top-color: var(--fill-color);\n",
              "      border-right-color: var(--fill-color);\n",
              "    }\n",
              "    40% {\n",
              "      border-color: transparent;\n",
              "      border-right-color: var(--fill-color);\n",
              "      border-top-color: var(--fill-color);\n",
              "    }\n",
              "    60% {\n",
              "      border-color: transparent;\n",
              "      border-right-color: var(--fill-color);\n",
              "    }\n",
              "    80% {\n",
              "      border-color: transparent;\n",
              "      border-right-color: var(--fill-color);\n",
              "      border-bottom-color: var(--fill-color);\n",
              "    }\n",
              "    90% {\n",
              "      border-color: transparent;\n",
              "      border-bottom-color: var(--fill-color);\n",
              "    }\n",
              "  }\n",
              "</style>\n",
              "\n",
              "  <script>\n",
              "    async function quickchart(key) {\n",
              "      const quickchartButtonEl =\n",
              "        document.querySelector('#' + key + ' button');\n",
              "      quickchartButtonEl.disabled = true;  // To prevent multiple clicks.\n",
              "      quickchartButtonEl.classList.add('colab-df-spinner');\n",
              "      try {\n",
              "        const charts = await google.colab.kernel.invokeFunction(\n",
              "            'suggestCharts', [key], {});\n",
              "      } catch (error) {\n",
              "        console.error('Error during call to suggestCharts:', error);\n",
              "      }\n",
              "      quickchartButtonEl.classList.remove('colab-df-spinner');\n",
              "      quickchartButtonEl.classList.add('colab-df-quickchart-complete');\n",
              "    }\n",
              "    (() => {\n",
              "      let quickchartButtonEl =\n",
              "        document.querySelector('#df-d1583891-87f1-4614-8e83-830b5159d99e button');\n",
              "      quickchartButtonEl.style.display =\n",
              "        google.colab.kernel.accessAllowed ? 'block' : 'none';\n",
              "    })();\n",
              "  </script>\n",
              "</div>\n",
              "    </div>\n",
              "  </div>\n"
            ],
            "application/vnd.google.colaboratory.intrinsic+json": {
              "type": "dataframe",
              "variable_name": "train",
              "summary": "{\n  \"name\": \"train\",\n  \"rows\": 50000,\n  \"fields\": [\n    {\n      \"column\": \"target\",\n      \"properties\": {\n        \"dtype\": \"number\",\n        \"std\": 11394667.776273064,\n        \"min\": -535.3391335081861,\n        \"max\": 839277273.4629648,\n        \"num_unique_values\": 50000,\n        \"samples\": [\n          219.8919482428659,\n          526476.8016515652,\n          22.745895426701452\n        ],\n        \"semantic_type\": \"\",\n        \"description\": \"\"\n      }\n    },\n    {\n      \"column\": \"feature 1\",\n      \"properties\": {\n        \"dtype\": \"number\",\n        \"std\": 21.842028393315516,\n        \"min\": -102.14208698613352,\n        \"max\": 92.6760997370983,\n        \"num_unique_values\": 50000,\n        \"samples\": [\n          -18.021138648246836,\n          30.997499918792897,\n          37.1797814774877\n        ],\n        \"semantic_type\": \"\",\n        \"description\": \"\"\n      }\n    },\n    {\n      \"column\": \"feature 2\",\n      \"properties\": {\n        \"dtype\": \"number\",\n        \"std\": 4.000527298955052,\n        \"min\": -17.236805046145093,\n        \"max\": 17.64705930881439,\n        \"num_unique_values\": 50000,\n        \"samples\": [\n          1.758503340966947,\n          -0.6389274981294994,\n          7.402011172817156\n        ],\n        \"semantic_type\": \"\",\n        \"description\": \"\"\n      }\n    },\n    {\n      \"column\": \"feature 3\",\n      \"properties\": {\n        \"dtype\": \"number\",\n        \"std\": 56.04590725069458,\n        \"min\": -251.34620603618356,\n        \"max\": 232.6831836057284,\n        \"num_unique_values\": 50000,\n        \"samples\": [\n          -4.735636913002452,\n          -107.13718116842152,\n          -32.727822066104615\n        ],\n        \"semantic_type\": \"\",\n        \"description\": \"\"\n      }\n    }\n  ]\n}"
            }
          },
          "metadata": {},
          "execution_count": 4
        }
      ]
    },
    {
      "cell_type": "code",
      "source": [
        "x_train = train.iloc[:, 1].values\n",
        "\n",
        "x = train.iloc[:, range(1,4)].values\n",
        "\n",
        "y = train.iloc[:, 0].values\n",
        "\n",
        "x_test = test.iloc[:, range(0,3)].values\n",
        "\n",
        "b = 0.\n",
        "\n"
      ],
      "metadata": {
        "id": "7ZkvwqnTfCe8"
      },
      "execution_count": null,
      "outputs": []
    },
    {
      "cell_type": "code",
      "source": [
        "x"
      ],
      "metadata": {
        "colab": {
          "base_uri": "https://localhost:8080/"
        },
        "id": "35bTkGYXLJYv",
        "outputId": "b52dc32e-01e1-40ad-bc90-eddeb1fdccd0"
      },
      "execution_count": null,
      "outputs": [
        {
          "output_type": "execute_result",
          "data": {
            "text/plain": [
              "array([[  5.22184894,   7.29511056,  95.71684555],\n",
              "       [ -5.10628445,   4.22008546,  -6.17236   ],\n",
              "       [ -4.21805344,  -7.57382297, -39.49388399],\n",
              "       ...,\n",
              "       [ 29.85789417,   1.42297302,  75.62050543],\n",
              "       [ 10.79314567,   1.21597176,  34.43776063],\n",
              "       [ 12.17170222,  -0.79875632,  60.24598982]])"
            ]
          },
          "metadata": {},
          "execution_count": 6
        }
      ]
    },
    {
      "cell_type": "code",
      "source": [
        "x_train"
      ],
      "metadata": {
        "id": "nIpL_kMo1__C",
        "outputId": "ba877eb1-1944-4274-a315-7a72c35591c3",
        "colab": {
          "base_uri": "https://localhost:8080/"
        }
      },
      "execution_count": null,
      "outputs": [
        {
          "output_type": "execute_result",
          "data": {
            "text/plain": [
              "array([ 5.22184894, -5.10628445, -4.21805344, ..., 29.85789417,\n",
              "       10.79314567, 12.17170222])"
            ]
          },
          "metadata": {},
          "execution_count": 7
        }
      ]
    },
    {
      "cell_type": "code",
      "source": [
        "y"
      ],
      "metadata": {
        "id": "3Bcx0uMd1_0n",
        "outputId": "429a54c9-e4b5-4500-ff05-de5668d22f9f",
        "colab": {
          "base_uri": "https://localhost:8080/"
        }
      },
      "execution_count": null,
      "outputs": [
        {
          "output_type": "execute_result",
          "data": {
            "text/plain": [
              "array([4.13152828e+06, 3.17297454e-01, 4.67642163e+04, ...,\n",
              "       3.83560105e+06, 2.58031768e+04, 3.46817108e+05])"
            ]
          },
          "metadata": {},
          "execution_count": 8
        }
      ]
    },
    {
      "cell_type": "code",
      "source": [
        "fig,ax= plt.subplots(1, 3, figsize=(12, 3), sharey=True)\n",
        "for i in range(len(ax)):\n",
        "    ax[i].scatter(x[:,i],y)\n",
        "plt.show()"
      ],
      "metadata": {
        "colab": {
          "base_uri": "https://localhost:8080/",
          "height": 306
        },
        "id": "UTgRADLu4swl",
        "outputId": "a286804b-53f1-483a-ee9a-8fd1e3d3280b"
      },
      "execution_count": null,
      "outputs": [
        {
          "output_type": "display_data",
          "data": {
            "text/plain": [
              "<Figure size 1200x300 with 3 Axes>"
            ],
            "image/png": "[encoded data removed]"
          },
          "metadata": {}
        }
      ]
    },
    {
      "cell_type": "markdown",
      "source": [
        "# Working Model"
      ],
      "metadata": {
        "id": "5NDCSPJ9O_QS"
      }
    },
    {
      "cell_type": "code",
      "source": [
        "def normalize_features(x):\n",
        "    mean = np.mean(x, axis=0)\n",
        "    std_dev = np.std(x, axis=0)\n",
        "    normalized_x = (x - mean) / std_dev\n",
        "    return normalized_x, mean, std_dev"
      ],
      "metadata": {
        "id": "27b5c0nwpd76"
      },
      "execution_count": null,
      "outputs": []
    },
    {
      "cell_type": "code",
      "source": [
        "def cost_function(x, y, w, b):\n",
        "    m = len(y)\n",
        "    f = np.dot(x, w) + b\n",
        "    error = f - y\n",
        "    target = np.sum(error**2) / (2 * m)\n",
        "    return target"
      ],
      "metadata": {
        "id": "OfUlks8DPGgW"
      },
      "execution_count": null,
      "outputs": []
    },
    {
      "cell_type": "code",
      "source": [
        "def gradient_function(x, y, w, b):\n",
        "    m = len(y)\n",
        "    f = np.dot(x, w) + b\n",
        "    dif = f - y\n",
        "    dj_dw = np.dot(x.T, dif) / m\n",
        "    dj_db = np.sum(dif) / m\n",
        "    return dj_dw, dj_db"
      ],
      "metadata": {
        "id": "mK-eniiSPGgW"
      },
      "execution_count": null,
      "outputs": []
    },
    {
      "cell_type": "code",
      "source": [
        "def gradient_descent(x, y, w, b, alpha, iterations):\n",
        "    m = len(y)\n",
        "    J_history = []\n",
        "\n",
        "    for i in range(iterations):\n",
        "        dj_dw, dj_db = gradient_function(x, y, w, b)\n",
        "\n",
        "        w = w - alpha * dj_dw\n",
        "        b = b - alpha * dj_db\n",
        "\n",
        "        cost = cost_function(x, y, w, b)\n",
        "        J_history.append(cost)\n",
        "\n",
        "        if i % (iterations // 10) == 0:\n",
        "            print(f\"Iteration {i:4d}: Cost {cost:.4f}\")\n",
        "\n",
        "    return w, b, J_history\n"
      ],
      "metadata": {
        "id": "7xVfzl7TPGgW"
      },
      "execution_count": null,
      "outputs": []
    },
    {
      "cell_type": "markdown",
      "source": [
        "## Fourth formula - working"
      ],
      "metadata": {
        "id": "vHDbdtCpxPsc"
      }
    },
    {
      "cell_type": "code",
      "source": [
        "column_matrix = np.array([[1, 2, 3],\n",
        "                          [4, 5, 6],\n",
        "                          [7, 8, 9]])\n",
        "\n",
        "column_1 = column_matrix[:, 0]\n",
        "column_2 = column_matrix[:, 1]\n",
        "column_3 = column_matrix[:, 2]\n",
        "\n",
        "print(\"Column 1:\", column_1)\n",
        "print(\"Column 2:\", column_2)\n",
        "print(\"Column 3:\", column_3)"
      ],
      "metadata": {
        "colab": {
          "base_uri": "https://localhost:8080/"
        },
        "id": "XJKnGni4BqQv",
        "outputId": "b6f6d1cf-da2a-4ad1-f01a-55a1e8e6b7fc"
      },
      "execution_count": null,
      "outputs": [
        {
          "output_type": "stream",
          "name": "stdout",
          "text": [
            "Column 1: [1 4 7]\n",
            "Column 2: [2 5 8]\n",
            "Column 3: [3 6 9]\n"
          ]
        }
      ]
    },
    {
      "cell_type": "code",
      "source": [
        "def polynomial(n, x):\n",
        "    x1 = x[:, 0]\n",
        "    x2 = x[:, 1]\n",
        "    x3 = x[:, 2]\n",
        "\n",
        "    result_matrix = np.empty((x.shape[0], 0))\n",
        "\n",
        "    for i in range(n + 1):\n",
        "        for j in range(n + 1):\n",
        "            for k in range(n + 1):\n",
        "                if i + j + k <= n:\n",
        "                    power = (x1 ** i) * (x2 ** j) * (x3 ** k)\n",
        "                    result_matrix = np.column_stack((result_matrix, power))\n",
        "\n",
        "    return result_matrix\n"
      ],
      "metadata": {
        "id": "mCbprzU8xPs7"
      },
      "execution_count": null,
      "outputs": []
    },
    {
      "cell_type": "code",
      "source": [
        "degree = 6\n",
        "\n",
        "xa = np.array([[1, 2, 3], [4, 5, 6]])\n",
        "p_x = polynomial(degree, xa)\n",
        "\n",
        "p_x"
      ],
      "metadata": {
        "colab": {
          "base_uri": "https://localhost:8080/"
        },
        "outputId": "6fdf71ca-c4e0-46c4-f7cb-93add41c3486",
        "id": "VatRUMK6xPs7"
      },
      "execution_count": null,
      "outputs": [
        {
          "output_type": "execute_result",
          "data": {
            "text/plain": [
              "array([[1.0000e+00, 3.0000e+00, 9.0000e+00, 2.7000e+01, 8.1000e+01,\n",
              "        2.4300e+02, 7.2900e+02, 2.0000e+00, 6.0000e+00, 1.8000e+01,\n",
              "        5.4000e+01, 1.6200e+02, 4.8600e+02, 4.0000e+00, 1.2000e+01,\n",
              "        3.6000e+01, 1.0800e+02, 3.2400e+02, 8.0000e+00, 2.4000e+01,\n",
              "        7.2000e+01, 2.1600e+02, 1.6000e+01, 4.8000e+01, 1.4400e+02,\n",
              "        3.2000e+01, 9.6000e+01, 6.4000e+01, 1.0000e+00, 3.0000e+00,\n",
              "        9.0000e+00, 2.7000e+01, 8.1000e+01, 2.4300e+02, 2.0000e+00,\n",
              "        6.0000e+00, 1.8000e+01, 5.4000e+01, 1.6200e+02, 4.0000e+00,\n",
              "        1.2000e+01, 3.6000e+01, 1.0800e+02, 8.0000e+00, 2.4000e+01,\n",
              "        7.2000e+01, 1.6000e+01, 4.8000e+01, 3.2000e+01, 1.0000e+00,\n",
              "        3.0000e+00, 9.0000e+00, 2.7000e+01, 8.1000e+01, 2.0000e+00,\n",
              "        6.0000e+00, 1.8000e+01, 5.4000e+01, 4.0000e+00, 1.2000e+01,\n",
              "        3.6000e+01, 8.0000e+00, 2.4000e+01, 1.6000e+01, 1.0000e+00,\n",
              "        3.0000e+00, 9.0000e+00, 2.7000e+01, 2.0000e+00, 6.0000e+00,\n",
              "        1.8000e+01, 4.0000e+00, 1.2000e+01, 8.0000e+00, 1.0000e+00,\n",
              "        3.0000e+00, 9.0000e+00, 2.0000e+00, 6.0000e+00, 4.0000e+00,\n",
              "        1.0000e+00, 3.0000e+00, 2.0000e+00, 1.0000e+00],\n",
              "       [1.0000e+00, 6.0000e+00, 3.6000e+01, 2.1600e+02, 1.2960e+03,\n",
              "        7.7760e+03, 4.6656e+04, 5.0000e+00, 3.0000e+01, 1.8000e+02,\n",
              "        1.0800e+03, 6.4800e+03, 3.8880e+04, 2.5000e+01, 1.5000e+02,\n",
              "        9.0000e+02, 5.4000e+03, 3.2400e+04, 1.2500e+02, 7.5000e+02,\n",
              "        4.5000e+03, 2.7000e+04, 6.2500e+02, 3.7500e+03, 2.2500e+04,\n",
              "        3.1250e+03, 1.8750e+04, 1.5625e+04, 4.0000e+00, 2.4000e+01,\n",
              "        1.4400e+02, 8.6400e+02, 5.1840e+03, 3.1104e+04, 2.0000e+01,\n",
              "        1.2000e+02, 7.2000e+02, 4.3200e+03, 2.5920e+04, 1.0000e+02,\n",
              "        6.0000e+02, 3.6000e+03, 2.1600e+04, 5.0000e+02, 3.0000e+03,\n",
              "        1.8000e+04, 2.5000e+03, 1.5000e+04, 1.2500e+04, 1.6000e+01,\n",
              "        9.6000e+01, 5.7600e+02, 3.4560e+03, 2.0736e+04, 8.0000e+01,\n",
              "        4.8000e+02, 2.8800e+03, 1.7280e+04, 4.0000e+02, 2.4000e+03,\n",
              "        1.4400e+04, 2.0000e+03, 1.2000e+04, 1.0000e+04, 6.4000e+01,\n",
              "        3.8400e+02, 2.3040e+03, 1.3824e+04, 3.2000e+02, 1.9200e+03,\n",
              "        1.1520e+04, 1.6000e+03, 9.6000e+03, 8.0000e+03, 2.5600e+02,\n",
              "        1.5360e+03, 9.2160e+03, 1.2800e+03, 7.6800e+03, 6.4000e+03,\n",
              "        1.0240e+03, 6.1440e+03, 5.1200e+03, 4.0960e+03]])"
            ]
          },
          "metadata": {},
          "execution_count": 17
        }
      ]
    },
    {
      "cell_type": "code",
      "source": [
        "norm_x, mean_x, std_dev_x = normalize_features(x)\n",
        "\n",
        "poly_x = polynomial(degree, norm_x)\n",
        "poly_x"
      ],
      "metadata": {
        "colab": {
          "base_uri": "https://localhost:8080/"
        },
        "id": "axp4nvOZIXwF",
        "outputId": "f01d5059-771a-4344-b6fd-97572c01025f"
      },
      "execution_count": null,
      "outputs": [
        {
          "output_type": "execute_result",
          "data": {
            "text/plain": [
              "array([[ 1.00000000e+00,  1.71150597e+00,  2.92925267e+00, ...,\n",
              "         1.21362522e-03,  1.29085263e-03,  1.66282832e-04],\n",
              "       [ 1.00000000e+00, -1.06472000e-01,  1.13362867e-02, ...,\n",
              "         8.19250152e-05, -8.09272457e-04,  1.83407607e-04],\n",
              "       [ 1.00000000e+00, -7.01017772e-01,  4.91425917e-01, ...,\n",
              "         2.11693548e-04,  5.72664923e-04,  5.96999975e-05],\n",
              "       ...,\n",
              "       [ 1.00000000e+00,  1.35293311e+00,  1.83042800e+00, ...,\n",
              "         6.35106914e+00,  1.65502013e+00,  6.39564896e+00],\n",
              "       [ 1.00000000e+00,  6.18121976e-01,  3.82074777e-01, ...,\n",
              "         1.73846474e-02,  8.46042734e-03,  1.37692424e-02],\n",
              "       [ 1.00000000e+00,  1.07861032e+00,  1.16340023e+00, ...,\n",
              "         5.56250719e-02, -1.04588626e-02,  2.85027796e-02]])"
            ]
          },
          "metadata": {},
          "execution_count": 39
        }
      ]
    },
    {
      "cell_type": "code",
      "source": [
        "w = np.zeros(len(poly_x[0]),)\n",
        "w"
      ],
      "metadata": {
        "colab": {
          "base_uri": "https://localhost:8080/"
        },
        "id": "Ly38tDkWInF4",
        "outputId": "78cb7df2-0775-4ec0-8576-dbe712693d9a"
      },
      "execution_count": null,
      "outputs": [
        {
          "output_type": "execute_result",
          "data": {
            "text/plain": [
              "array([0., 0., 0., 0., 0., 0., 0., 0., 0., 0., 0., 0., 0., 0., 0., 0., 0.,\n",
              "       0., 0., 0., 0., 0., 0., 0., 0., 0., 0., 0., 0., 0., 0., 0., 0., 0.,\n",
              "       0., 0., 0., 0., 0., 0., 0., 0., 0., 0., 0., 0., 0., 0., 0., 0., 0.,\n",
              "       0., 0., 0., 0., 0., 0., 0., 0., 0., 0., 0., 0., 0., 0., 0., 0., 0.,\n",
              "       0., 0., 0., 0., 0., 0., 0., 0., 0., 0., 0., 0., 0., 0., 0., 0.])"
            ]
          },
          "metadata": {},
          "execution_count": 40
        }
      ]
    },
    {
      "cell_type": "code",
      "source": [
        "iterations= 1000\n",
        "alpha = 0.000085\n",
        "\n",
        "w_final, b_final, J_hist = gradient_descent(poly_x, y, w, b, alpha, iterations)"
      ],
      "metadata": {
        "colab": {
          "base_uri": "https://localhost:8080/"
        },
        "outputId": "9f18d46d-47b0-4cca-c020-7c1b91435a81",
        "id": "JhTAd8fZxPs7"
      },
      "execution_count": null,
      "outputs": [
        {
          "output_type": "stream",
          "name": "stdout",
          "text": [
            "Iteration    0: Cost 21982724534625.2617\n",
            "Iteration  100: Cost 228574875087.4173\n",
            "Iteration  200: Cost 87099410856.9054\n",
            "Iteration  300: Cost 42932881319.4465\n",
            "Iteration  400: Cost 23739463136.7193\n",
            "Iteration  500: Cost 14573668918.1779\n",
            "Iteration  600: Cost 9844926811.4738\n",
            "Iteration  700: Cost 7201055980.2808\n",
            "Iteration  800: Cost 5592742650.5159\n",
            "Iteration  900: Cost 4531038840.6994\n"
          ]
        }
      ]
    },
    {
      "cell_type": "code",
      "source": [
        "norm_x_test = (x_test - mean_x) / std_dev_x\n",
        "\n",
        "poly_x_test = polynomial(degree, norm_x_test)\n",
        "\n",
        "ycap_test = np.dot(poly_x_test, w_final) + b_final"
      ],
      "metadata": {
        "id": "BGEztHQMqWk8"
      },
      "execution_count": null,
      "outputs": []
    },
    {
      "cell_type": "code",
      "source": [
        "ycap= np.dot(poly_x, w_final) + b_final\n",
        "d1 = y - ycap\n",
        "d2 = y - y.mean()\n",
        "r2 =1- d1.dot(d1)/d2.dot(d2)\n",
        "print(\"r2 error is :\",r2)"
      ],
      "metadata": {
        "colab": {
          "base_uri": "https://localhost:8080/"
        },
        "outputId": "9b540e98-9f0a-4b4d-f5f2-557cca37d83f",
        "id": "c8m3hgizxPs7"
      },
      "execution_count": null,
      "outputs": [
        {
          "output_type": "stream",
          "name": "stdout",
          "text": [
            "r2 error is : 0.9999416999990395\n"
          ]
        }
      ]
    },
    {
      "cell_type": "code",
      "source": [
        "rng = np.arange(0, iterations)\n",
        "plt.plot(rng, J_hist)\n",
        "plt.show()"
      ],
      "metadata": {
        "id": "2YzsurLeJz8Y",
        "colab": {
          "base_uri": "https://localhost:8080/",
          "height": 445
        },
        "outputId": "a36b088a-ecf5-4139-d0b5-4d961eab0f85"
      },
      "execution_count": null,
      "outputs": [
        {
          "output_type": "display_data",
          "data": {
            "text/plain": [
              "<Figure size 640x480 with 1 Axes>"
            ],
            "image/png": "[encoded data removed]"
          },
          "metadata": {}
        }
      ]
    },
    {
      "cell_type": "code",
      "source": [],
      "metadata": {
        "id": "TAoADEJiVFEc"
      },
      "execution_count": null,
      "outputs": []
    },
    {
      "cell_type": "markdown",
      "source": [
        "## First formula"
      ],
      "metadata": {
        "id": "dJJU5MeEfUBN"
      }
    },
    {
      "cell_type": "code",
      "source": [
        "def add_power_elements(matrix, max_power):\n",
        "    result_matrix = np.empty((matrix.shape[0], matrix.shape[1] * max_power), dtype=matrix.dtype)\n",
        "    for i in range(matrix.shape[0]):\n",
        "        powers = np.array([np.power(matrix[i], p) for p in range(1, max_power + 1)])\n",
        "        powers = powers.reshape(-1)\n",
        "        result_matrix[i] = powers\n",
        "    return result_matrix\n",
        "\n",
        "\n",
        "degree = 3\n",
        "\n",
        "x_poly = add_power_elements(x, degree)\n",
        "print(x_poly)"
      ],
      "metadata": {
        "colab": {
          "base_uri": "https://localhost:8080/"
        },
        "id": "sW2yM1AxPGgV",
        "outputId": "3e51c097-834a-4416-f519-c6a735eeea6b"
      },
      "execution_count": null,
      "outputs": [
        {
          "output_type": "stream",
          "name": "stdout",
          "text": [
            "[[ 5.22184894e+00  7.29511056e+00  9.57168455e+01 ...  1.42387844e+02\n",
            "   3.88235849e+02  8.76930414e+05]\n",
            " [-5.10628445e+00  4.22008546e+00 -6.17236000e+00 ... -1.33141980e+02\n",
            "   7.51560140e+01 -2.35154744e+02]\n",
            " [-4.21805344e+00 -7.57382297e+00 -3.94938840e+01 ... -7.50475008e+01\n",
            "  -4.34455650e+02 -6.16012519e+04]\n",
            " ...\n",
            " [ 2.98578942e+01  1.42297302e+00  7.56205054e+01 ...  2.66181289e+04\n",
            "   2.88131010e+00  4.32432899e+05]\n",
            " [ 1.07931457e+01  1.21597176e+00  3.44377606e+01 ...  1.25731505e+03\n",
            "   1.79792044e+00  4.08417844e+04]\n",
            " [ 1.21717022e+01 -7.98756316e-01  6.02459898e+01 ...  1.80324176e+03\n",
            "  -5.09615836e-01  2.18667597e+05]]\n"
          ]
        }
      ]
    },
    {
      "cell_type": "code",
      "source": [
        "x_norm = norm(x_poly)\n",
        "\n",
        "x_norm"
      ],
      "metadata": {
        "colab": {
          "base_uri": "https://localhost:8080/"
        },
        "id": "9hitiuMnd1y7",
        "outputId": "1bc229c4-da1c-49a6-afc4-d9fe0ebe0547"
      },
      "execution_count": null,
      "outputs": [
        {
          "output_type": "execute_result",
          "data": {
            "text/plain": [
              "array([[ 3.91481055e-096,  5.46913098e-096,  7.17587431e-095, ...,\n",
              "         3.87131599e-068,  2.48978345e-062,  1.30143220e-017],\n",
              "       [-3.82817206e-096,  3.16379031e-096, -4.62740695e-096, ...,\n",
              "         1.58156333e-068,  7.72211548e-072,  3.11126050e-065],\n",
              "       [-3.16226691e-096, -5.67808116e-096, -2.96084922e-095, ...,\n",
              "         7.57477199e-072,  1.11555873e-061,  5.44603328e-033],\n",
              "       ...,\n",
              "       [ 2.23844084e-095,  1.06680026e-096,  5.66925539e-095, ...,\n",
              "         7.53795291e-038,  1.00635946e-090,  1.04826112e-021],\n",
              "       [ 8.09160147e-096,  9.11611796e-097,  2.58179258e-095, ...,\n",
              "         1.58784457e-055,  1.86993304e-093,  2.27134217e-035],\n",
              "       [ 9.12510278e-096, -5.98826141e-097,  4.51663078e-095, ...,\n",
              "         1.94508778e-053,  9.36394056e-101,  1.18035381e-025]])"
            ]
          },
          "metadata": {},
          "execution_count": 221
        }
      ]
    },
    {
      "cell_type": "code",
      "source": [
        "iterations= 1000\n",
        "alpha = 0.006\n",
        "\n",
        "\n",
        "w_final, b_final, J_hist = gradient_descent(x_norm, y, w, b, alpha, iterations)\n",
        "\n",
        "m = len(y)\n"
      ],
      "metadata": {
        "colab": {
          "base_uri": "https://localhost:8080/"
        },
        "outputId": "742798d4-caac-40e7-fe78-a2aeec627958",
        "id": "ncEOzYLhPGgW"
      },
      "execution_count": null,
      "outputs": [
        {
          "output_type": "stream",
          "name": "stdout",
          "text": [
            "Iteration    0: Cost 66471847441491.1406\n",
            "Iteration  100: Cost 65384203023446.7031\n",
            "Iteration  200: Cost 65057745641151.7734\n",
            "Iteration  300: Cost 64959726214020.2891\n",
            "Iteration  400: Cost 64930262736360.7656\n",
            "Iteration  500: Cost 64921373415852.1562\n",
            "Iteration  600: Cost 64918658555765.6484\n",
            "Iteration  700: Cost 64917796698818.1406\n",
            "Iteration  800: Cost 64917490943178.9297\n",
            "Iteration  900: Cost 64917352078855.0078\n"
          ]
        }
      ]
    },
    {
      "cell_type": "code",
      "source": [
        "ycap= np.dot(x_norm, w_final) + b_final\n",
        "d1 = y - ycap\n",
        "d2 = y - y.mean()\n",
        "r2 =1- d1.dot(d1)/d2.dot(d2)\n",
        "print(\"r2 error is :\",r2)"
      ],
      "metadata": {
        "colab": {
          "base_uri": "https://localhost:8080/"
        },
        "id": "r5_0NXmcdxF5",
        "outputId": "c5ece621-6c2f-439b-ee40-8247da4d66c4"
      },
      "execution_count": null,
      "outputs": [
        {
          "output_type": "stream",
          "name": "stdout",
          "text": [
            "r2 error is : 1.0234395608765823e-05\n"
          ]
        }
      ]
    },
    {
      "cell_type": "markdown",
      "source": [
        "## Second formula"
      ],
      "metadata": {
        "id": "yTrITz5Vfjo6"
      }
    },
    {
      "cell_type": "code",
      "source": [
        "def add_single_power(matrix, n):\n",
        "    powers = np.power(matrix, n)\n",
        "    result_matrix = np.concatenate((matrix, powers), axis=1)\n",
        "    return result_matrix\n",
        "\n",
        "x_pow = add_single_power(x, degree)\n",
        "print(x_pow)"
      ],
      "metadata": {
        "colab": {
          "base_uri": "https://localhost:8080/"
        },
        "id": "3WrVHK099pfp",
        "outputId": "9b6dba41-c09a-4428-f6e3-6c534bec946c"
      },
      "execution_count": null,
      "outputs": [
        {
          "output_type": "stream",
          "name": "stdout",
          "text": [
            "[[ 5.22184894e+00  7.29511056e+00  9.57168455e+01  1.42387844e+02\n",
            "   3.88235849e+02  8.76930414e+05]\n",
            " [-5.10628445e+00  4.22008546e+00 -6.17236000e+00 -1.33141980e+02\n",
            "   7.51560140e+01 -2.35154744e+02]\n",
            " [-4.21805344e+00 -7.57382297e+00 -3.94938840e+01 -7.50475008e+01\n",
            "  -4.34455650e+02 -6.16012519e+04]\n",
            " ...\n",
            " [ 2.98578942e+01  1.42297302e+00  7.56205054e+01  2.66181289e+04\n",
            "   2.88131010e+00  4.32432899e+05]\n",
            " [ 1.07931457e+01  1.21597176e+00  3.44377606e+01  1.25731505e+03\n",
            "   1.79792044e+00  4.08417844e+04]\n",
            " [ 1.21717022e+01 -7.98756316e-01  6.02459898e+01  1.80324176e+03\n",
            "  -5.09615836e-01  2.18667597e+05]]\n"
          ]
        }
      ]
    },
    {
      "cell_type": "code",
      "source": [
        "x_nor = norm(x_pow)\n",
        "\n",
        "x_nor"
      ],
      "metadata": {
        "colab": {
          "base_uri": "https://localhost:8080/"
        },
        "id": "dAO1T41Af8Kd",
        "outputId": "bd27ff07-2d6a-43a6-93a0-2121033f6423"
      },
      "execution_count": null,
      "outputs": [
        {
          "output_type": "execute_result",
          "data": {
            "text/plain": [
              "array([[ 3.41301097e-08,  4.76809893e-08,  6.25607227e-07,\n",
              "         9.30649810e-07,  2.53751732e-06,  5.73163482e-03],\n",
              "       [-3.33747778e-08,  2.75825635e-08, -4.03426691e-08,\n",
              "        -8.70218657e-07,  4.91221219e-07, -1.53697614e-06],\n",
              "       [-2.75692821e-08, -4.95026593e-08, -2.58132820e-07,\n",
              "        -4.90511974e-07, -2.83961087e-06, -4.02627021e-04],\n",
              "       ...,\n",
              "       [ 1.95151797e-07,  9.30058030e-09,  4.94257144e-07,\n",
              "         1.73976625e-04,  1.88323008e-08,  2.82639012e-03],\n",
              "       [ 7.05442171e-08,  7.94761590e-09,  2.25085896e-07,\n",
              "         8.21783648e-06,  1.17512442e-08,  2.66942724e-04],\n",
              "       [ 7.95544905e-08, -5.22068734e-09,  3.93769001e-07,\n",
              "         1.17860244e-05, -3.33085935e-09,  1.42921581e-03]])"
            ]
          },
          "metadata": {},
          "execution_count": 13
        }
      ]
    },
    {
      "cell_type": "code",
      "source": [
        "iterations= 1000\n",
        "alpha = 0.006\n",
        "\n",
        "\n",
        "w_final, b_final, J_hist = gradient_descent(x_nor, y, w, b, alpha, iterations)\n",
        "\n",
        "m = len(y)\n"
      ],
      "metadata": {
        "colab": {
          "base_uri": "https://localhost:8080/"
        },
        "outputId": "742798d4-caac-40e7-fe78-a2aeec627958",
        "id": "EnPn0w1sfjo6"
      },
      "execution_count": null,
      "outputs": [
        {
          "output_type": "stream",
          "name": "stdout",
          "text": [
            "Iteration    0: Cost 66471847441491.1406\n",
            "Iteration  100: Cost 65384203023446.7031\n",
            "Iteration  200: Cost 65057745641151.7734\n",
            "Iteration  300: Cost 64959726214020.2891\n",
            "Iteration  400: Cost 64930262736360.7656\n",
            "Iteration  500: Cost 64921373415852.1562\n",
            "Iteration  600: Cost 64918658555765.6484\n",
            "Iteration  700: Cost 64917796698818.1406\n",
            "Iteration  800: Cost 64917490943178.9297\n",
            "Iteration  900: Cost 64917352078855.0078\n"
          ]
        }
      ]
    },
    {
      "cell_type": "code",
      "source": [
        "ycap= np.dot(x_norm, w_final) + b_final\n",
        "d1 = y - ycap\n",
        "d2 = y - y.mean()\n",
        "r2 =1- d1.dot(d1)/d2.dot(d2)\n",
        "print(\"r2 error is :\",r2)"
      ],
      "metadata": {
        "colab": {
          "base_uri": "https://localhost:8080/"
        },
        "outputId": "c5ece621-6c2f-439b-ee40-8247da4d66c4",
        "id": "EpoXpaayfoJc"
      },
      "execution_count": null,
      "outputs": [
        {
          "output_type": "stream",
          "name": "stdout",
          "text": [
            "r2 error is : 1.0234395608765823e-05\n"
          ]
        }
      ]
    },
    {
      "cell_type": "code",
      "source": [],
      "metadata": {
        "id": "pN4c_BixioFm"
      },
      "execution_count": null,
      "outputs": []
    },
    {
      "cell_type": "markdown",
      "source": [
        "## Third formula"
      ],
      "metadata": {
        "id": "IVA0sy8yftwN"
      }
    },
    {
      "cell_type": "code",
      "source": [
        "def combinations_with_replacement(iterable, r):\n",
        "    pool = tuple(iterable)\n",
        "    n = len(pool)\n",
        "    if not n and r:\n",
        "        return\n",
        "    indices = [0] * r\n",
        "    yield tuple(pool[i] for i in indices)\n",
        "    while True:\n",
        "        for i in reversed(range(r)):\n",
        "            if indices[i] != n - 1:\n",
        "                break\n",
        "        else:\n",
        "            return\n",
        "        indices[i:] = [indices[i] + 1] * (r - i)\n",
        "        yield tuple(pool[i] for i in indices)"
      ],
      "metadata": {
        "id": "MZWXWZq-pZOP"
      },
      "execution_count": null,
      "outputs": []
    },
    {
      "cell_type": "code",
      "source": [
        "#formula to be modified\n",
        "def create_polynomial_features(x, degree):\n",
        "    m, n = x.shape\n",
        "    new_x = np.ones((m, 1))\n",
        "\n",
        "    for d in range(1, degree + 1):\n",
        "        for comb in combinations_with_replacement(range(n), d):\n",
        "            new_feature = np.prod(x[:, comb], axis=1).reshape(-1, 1)\n",
        "            new_x = np.hstack((new_x, new_feature))\n",
        "\n",
        "        if d == degree:\n",
        "            all_features_product = np.prod(x, axis=1).reshape(-1, 1)\n",
        "            new_x = np.hstack((new_x, all_features_product))\n",
        "\n",
        "    return new_x"
      ],
      "metadata": {
        "id": "as5Mxraipa_B"
      },
      "execution_count": null,
      "outputs": []
    },
    {
      "cell_type": "code",
      "source": [
        "degree = 2\n",
        "new_x = create_polynomial_features(x, degree)\n",
        "\n",
        "new_x[0]"
      ],
      "metadata": {
        "colab": {
          "base_uri": "https://localhost:8080/"
        },
        "id": "y5rnjM_IpmVF",
        "outputId": "67a0cc28-2b1d-49b8-9351-799f015a3d51"
      },
      "execution_count": null,
      "outputs": [
        {
          "output_type": "execute_result",
          "data": {
            "text/plain": [
              "array([1.00000000e+00, 5.22184894e+00, 7.29511056e+00, 9.57168455e+01,\n",
              "       2.72677064e+01, 3.80939654e+01, 4.99818909e+02, 5.32186381e+01,\n",
              "       6.98264971e+02, 9.16171452e+03, 3.64623420e+03])"
            ]
          },
          "metadata": {},
          "execution_count": 20
        }
      ]
    },
    {
      "cell_type": "code",
      "source": [
        "iterations= 1000\n",
        "alpha = 0.006\n",
        "\n",
        "\n",
        "w_final, b_final, J_hist = gradient_descent(x_norm, y, w, b, alpha, iterations)\n",
        "\n",
        "m = len(y)\n"
      ],
      "metadata": {
        "colab": {
          "base_uri": "https://localhost:8080/"
        },
        "outputId": "742798d4-caac-40e7-fe78-a2aeec627958",
        "id": "t8y0zSkZftwN"
      },
      "execution_count": null,
      "outputs": [
        {
          "output_type": "stream",
          "name": "stdout",
          "text": [
            "Iteration    0: Cost 66471847441491.1406\n",
            "Iteration  100: Cost 65384203023446.7031\n",
            "Iteration  200: Cost 65057745641151.7734\n",
            "Iteration  300: Cost 64959726214020.2891\n",
            "Iteration  400: Cost 64930262736360.7656\n",
            "Iteration  500: Cost 64921373415852.1562\n",
            "Iteration  600: Cost 64918658555765.6484\n",
            "Iteration  700: Cost 64917796698818.1406\n",
            "Iteration  800: Cost 64917490943178.9297\n",
            "Iteration  900: Cost 64917352078855.0078\n"
          ]
        }
      ]
    },
    {
      "cell_type": "code",
      "source": [
        "ycap= np.dot(x_norm, w_final) + b_final\n",
        "d1 = y - ycap\n",
        "d2 = y - y.mean()\n",
        "r2 =1- d1.dot(d1)/d2.dot(d2)\n",
        "print(\"r2 error is :\",r2)"
      ],
      "metadata": {
        "colab": {
          "base_uri": "https://localhost:8080/"
        },
        "outputId": "c5ece621-6c2f-439b-ee40-8247da4d66c4",
        "id": "5PcbL9B2ftwO"
      },
      "execution_count": null,
      "outputs": [
        {
          "output_type": "stream",
          "name": "stdout",
          "text": [
            "r2 error is : 1.0234395608765823e-05\n"
          ]
        }
      ]
    },
    {
      "cell_type": "markdown",
      "source": [
        "# Failed model-1"
      ],
      "metadata": {
        "id": "q3I5nMLiQQfX"
      }
    },
    {
      "cell_type": "code",
      "source": [
        "def norm(v):\n",
        "  norm = np.linalg.norm(v)\n",
        "  if norm == 0:\n",
        "    return v\n",
        "  return v/norm"
      ],
      "metadata": {
        "id": "hrniaPaRl6xV"
      },
      "execution_count": null,
      "outputs": []
    },
    {
      "cell_type": "code",
      "source": [
        "def poly(X):\n",
        "    m, n = X.shape\n",
        "    X_poly = np.ones((m, 1))\n",
        "    for i in range(n):\n",
        "        x = X[:, i:i+1]\n",
        "        x_poly = np.hstack((np.ones((m, 1)), x, x**2))\n",
        "        X_poly = np.hstack((X_poly, x_poly))\n",
        "    return X_poly\n"
      ],
      "metadata": {
        "id": "rfnuGlOoGeYo"
      },
      "execution_count": null,
      "outputs": []
    },
    {
      "cell_type": "code",
      "source": [
        "def cost_function(x, y, w, b):\n",
        "    m = len(y)\n",
        "    f = np.dot(x, w) + b\n",
        "    error = f - y\n",
        "    target = np.sum(error**2) / (2 * m)\n",
        "    return target"
      ],
      "metadata": {
        "id": "wNXAar54Elov"
      },
      "execution_count": null,
      "outputs": []
    },
    {
      "cell_type": "code",
      "source": [
        "def gradient_function(x, y, w, b):\n",
        "    m = len(y)\n",
        "    f = np.dot(x, w) + b\n",
        "    dif = f - y\n",
        "    dj_dw = np.dot(x.T, dif) / m\n",
        "    dj_db = np.sum(dif) / m\n",
        "    return dj_dw, dj_db"
      ],
      "metadata": {
        "id": "3WrEVQwofCsk"
      },
      "execution_count": null,
      "outputs": []
    },
    {
      "cell_type": "code",
      "source": [
        "def gradient_descent(x, y, w, b, alpha, iterations):\n",
        "    m = len(y)\n",
        "    J_history = []\n",
        "\n",
        "    for i in range(iterations):\n",
        "        dj_dw, dj_db = gradient_function(x, y, w, b)\n",
        "\n",
        "        w = w - alpha * dj_dw\n",
        "        b = b - alpha * dj_db\n",
        "\n",
        "        cost = cost_function(x, y, w, b)\n",
        "        J_history.append(cost)\n",
        "\n",
        "        if i % (iterations // 10) == 0:\n",
        "            print(f\"Iteration {i:4d}: Cost {cost:.4f}\")\n",
        "\n",
        "    return w, b, J_history\n"
      ],
      "metadata": {
        "id": "s6ZtAvtKfCle"
      },
      "execution_count": null,
      "outputs": []
    },
    {
      "cell_type": "code",
      "source": [
        "iterations= 1000\n",
        "alpha = 2\n",
        "\n",
        "\n",
        "X_poly = poly(x_train)\n",
        "\n",
        "X_norm = norm(X_poly)\n",
        "\n",
        "\n",
        "w_final, b_final, J_hist = gradient_descent(X_norm, y, w, b, alpha, iterations)\n",
        "\n",
        "m = len(y)\n"
      ],
      "metadata": {
        "colab": {
          "base_uri": "https://localhost:8080/",
          "height": 341
        },
        "id": "Y_WDx63xfCWq",
        "outputId": "1e098a0d-1df5-4b23-862b-cb8066882470"
      },
      "execution_count": null,
      "outputs": [
        {
          "output_type": "error",
          "ename": "TypeError",
          "evalue": "cannot unpack non-iterable int object",
          "traceback": [
            "\u001b[0;31m---------------------------------------------------------------------------\u001b[0m",
            "\u001b[0;31mTypeError\u001b[0m                                 Traceback (most recent call last)",
            "\u001b[0;32m<ipython-input-29-23c3764cd46c>\u001b[0m in \u001b[0;36m<cell line: 5>\u001b[0;34m()\u001b[0m\n\u001b[1;32m      3\u001b[0m \u001b[0;34m\u001b[0m\u001b[0m\n\u001b[1;32m      4\u001b[0m \u001b[0;34m\u001b[0m\u001b[0m\n\u001b[0;32m----> 5\u001b[0;31m \u001b[0mX_poly\u001b[0m \u001b[0;34m=\u001b[0m \u001b[0mpoly\u001b[0m\u001b[0;34m(\u001b[0m\u001b[0mx_train\u001b[0m\u001b[0;34m)\u001b[0m\u001b[0;34m\u001b[0m\u001b[0;34m\u001b[0m\u001b[0m\n\u001b[0m\u001b[1;32m      6\u001b[0m \u001b[0;34m\u001b[0m\u001b[0m\n\u001b[1;32m      7\u001b[0m \u001b[0mX_norm\u001b[0m \u001b[0;34m=\u001b[0m \u001b[0mnorm\u001b[0m\u001b[0;34m(\u001b[0m\u001b[0mX_poly\u001b[0m\u001b[0;34m)\u001b[0m\u001b[0;34m\u001b[0m\u001b[0;34m\u001b[0m\u001b[0m\n",
            "\u001b[0;32m<ipython-input-28-cfffa9de981b>\u001b[0m in \u001b[0;36mpoly\u001b[0;34m(X)\u001b[0m\n\u001b[1;32m      1\u001b[0m \u001b[0;32mdef\u001b[0m \u001b[0mpoly\u001b[0m\u001b[0;34m(\u001b[0m\u001b[0mX\u001b[0m\u001b[0;34m)\u001b[0m\u001b[0;34m:\u001b[0m\u001b[0;34m\u001b[0m\u001b[0;34m\u001b[0m\u001b[0m\n\u001b[0;32m----> 2\u001b[0;31m     \u001b[0mm\u001b[0m\u001b[0;34m,\u001b[0m \u001b[0mn\u001b[0m \u001b[0;34m=\u001b[0m \u001b[0mX\u001b[0m\u001b[0;34m.\u001b[0m\u001b[0msize\u001b[0m\u001b[0;34m\u001b[0m\u001b[0;34m\u001b[0m\u001b[0m\n\u001b[0m\u001b[1;32m      3\u001b[0m     \u001b[0mX_poly\u001b[0m \u001b[0;34m=\u001b[0m \u001b[0mnp\u001b[0m\u001b[0;34m.\u001b[0m\u001b[0mones\u001b[0m\u001b[0;34m(\u001b[0m\u001b[0;34m(\u001b[0m\u001b[0mm\u001b[0m\u001b[0;34m,\u001b[0m \u001b[0;36m1\u001b[0m\u001b[0;34m)\u001b[0m\u001b[0;34m)\u001b[0m\u001b[0;34m\u001b[0m\u001b[0;34m\u001b[0m\u001b[0m\n\u001b[1;32m      4\u001b[0m     \u001b[0;32mfor\u001b[0m \u001b[0mi\u001b[0m \u001b[0;32min\u001b[0m \u001b[0mrange\u001b[0m\u001b[0;34m(\u001b[0m\u001b[0mn\u001b[0m\u001b[0;34m)\u001b[0m\u001b[0;34m:\u001b[0m\u001b[0;34m\u001b[0m\u001b[0;34m\u001b[0m\u001b[0m\n\u001b[1;32m      5\u001b[0m         \u001b[0mx\u001b[0m \u001b[0;34m=\u001b[0m \u001b[0mX\u001b[0m\u001b[0;34m[\u001b[0m\u001b[0;34m:\u001b[0m\u001b[0;34m,\u001b[0m \u001b[0mi\u001b[0m\u001b[0;34m:\u001b[0m\u001b[0mi\u001b[0m\u001b[0;34m+\u001b[0m\u001b[0;36m1\u001b[0m\u001b[0;34m]\u001b[0m\u001b[0;34m\u001b[0m\u001b[0;34m\u001b[0m\u001b[0m\n",
            "\u001b[0;31mTypeError\u001b[0m: cannot unpack non-iterable int object"
          ]
        }
      ]
    },
    {
      "cell_type": "code",
      "source": [
        "rng = np.arange(0, iterations)\n",
        "plt.plot(rng, J_hist)\n",
        "plt.yscale('log')\n",
        "plt.xlabel('Iterations')\n",
        "plt.ylabel('Cost')\n",
        "plt.title('Cost History')\n",
        "plt.show()"
      ],
      "metadata": {
        "colab": {
          "base_uri": "https://localhost:8080/",
          "height": 472
        },
        "id": "Ysa5nrlOfCH0",
        "outputId": "cdf276e0-4d6d-4089-efe0-d92749d83f76"
      },
      "execution_count": null,
      "outputs": [
        {
          "output_type": "display_data",
          "data": {
            "text/plain": [
              "<Figure size 640x480 with 1 Axes>"
            ],
            "image/png": "[encoded data removed]"
          },
          "metadata": {}
        }
      ]
    },
    {
      "cell_type": "code",
      "source": [
        "ycap= np.dot(X_norm, w_final) + b_final\n",
        "d1 = y - ycap\n",
        "d2 = y - y.mean()\n",
        "r2 =1- d1.dot(d1)/d2.dot(d2)\n",
        "print(\"r2 error is :\",r2)"
      ],
      "metadata": {
        "colab": {
          "base_uri": "https://localhost:8080/"
        },
        "id": "LHL87-jUfyw0",
        "outputId": "3b412c01-c237-430d-8cca-2db301583824"
      },
      "execution_count": null,
      "outputs": [
        {
          "output_type": "stream",
          "name": "stdout",
          "text": [
            "r2 error is : -0.02375382002407256\n"
          ]
        }
      ]
    },
    {
      "cell_type": "markdown",
      "source": [
        "# Failed model-2"
      ],
      "metadata": {
        "id": "AkjJtHMQQUO7"
      }
    },
    {
      "cell_type": "code",
      "source": [
        "def norm(v):\n",
        "    norm_value = np.linalg.norm(v)\n",
        "    if norm_value == 0:\n",
        "        return np.zeros_like(v)\n",
        "    return v / norm_value\n",
        "\n",
        "X_normalized = norm(x_train)"
      ],
      "metadata": {
        "id": "RKL8n3-uQWuT"
      },
      "execution_count": null,
      "outputs": []
    },
    {
      "cell_type": "code",
      "source": [
        "def add_polynomial_features(X, degree):\n",
        "    m,n = X.shape\n",
        "    X_poly = np.ones((m, 1))\n",
        "    for d in range(1, degree + 1):\n",
        "        for i in range(n):\n",
        "            X_poly = np.hstack((X_poly, np.power(X[:, i:i+1], d)))\n",
        "    return X_poly\n",
        "\n",
        "degree = 3\n",
        "X_poly = add_polynomial_features(X_normalized, degree)\n"
      ],
      "metadata": {
        "id": "8iGEZq_gQfNi"
      },
      "execution_count": null,
      "outputs": []
    },
    {
      "cell_type": "code",
      "source": [
        "def initialize_parameters(n):\n",
        "    return np.zeros((n, 1))\n",
        "theta = initialize_parameters(X_poly.shape[1])\n"
      ],
      "metadata": {
        "id": "UANYfSLRQlEB"
      },
      "execution_count": null,
      "outputs": []
    },
    {
      "cell_type": "code",
      "source": [
        "def compute_cost(X, y, theta):\n",
        "    m = len(y)\n",
        "    h = np.dot(X, theta)\n",
        "    J = (1 / (2 * m)) * np.sum(np.square(h - y))\n",
        "    return J\n"
      ],
      "metadata": {
        "id": "Wz9CT9irQn1F"
      },
      "execution_count": null,
      "outputs": []
    },
    {
      "cell_type": "code",
      "source": [
        "def gradient_descent(X, y, theta, alpha, iterations):\n",
        "    m = len(y)\n",
        "    J_history = []\n",
        "\n",
        "    for i in range(iterations):\n",
        "        h = np.dot(X, theta)\n",
        "        error = h - y\n",
        "        gradient = (1 / m) * np.dot(X.T, error)\n",
        "        theta -= alpha * gradient\n",
        "        cost = compute_cost(X, y, theta)\n",
        "        J_history.append(cost)\n",
        "\n",
        "        if i % (iterations // 10) == 0:\n",
        "            print(f\"Iteration {i:4d}: Cost {cost:.4f}\")\n",
        "\n",
        "    return theta, J_history"
      ],
      "metadata": {
        "id": "-TcZMzoUQofC"
      },
      "execution_count": null,
      "outputs": []
    },
    {
      "cell_type": "code",
      "source": [
        "alpha = 0.01\n",
        "iterations = 1000\n",
        "\n",
        "theta_final, J_history = gradient_descent(X_poly, y, theta, alpha, iterations)\n"
      ],
      "metadata": {
        "id": "SI4sPB9KQoQM"
      },
      "execution_count": null,
      "outputs": []
    },
    {
      "cell_type": "code",
      "source": [
        "print(\"X_poly shape:\", X_poly.shape)\n",
        "print(\"Theta shape:\", theta.shape)"
      ],
      "metadata": {
        "colab": {
          "base_uri": "https://localhost:8080/",
          "height": 162
        },
        "id": "EapTZAohWdMY",
        "outputId": "14d3a61f-cc7b-4204-83c5-7b4e58b135cf"
      },
      "execution_count": null,
      "outputs": [
        {
          "output_type": "error",
          "ename": "NameError",
          "evalue": "name 'X_poly' is not defined",
          "traceback": [
            "\u001b[0;31m---------------------------------------------------------------------------\u001b[0m",
            "\u001b[0;31mNameError\u001b[0m                                 Traceback (most recent call last)",
            "\u001b[0;32m<ipython-input-1-c3b0e2d98a9b>\u001b[0m in \u001b[0;36m<cell line: 1>\u001b[0;34m()\u001b[0m\n\u001b[0;32m----> 1\u001b[0;31m \u001b[0mprint\u001b[0m\u001b[0;34m(\u001b[0m\u001b[0;34m\"X_poly shape:\"\u001b[0m\u001b[0;34m,\u001b[0m \u001b[0mX_poly\u001b[0m\u001b[0;34m.\u001b[0m\u001b[0mshape\u001b[0m\u001b[0;34m)\u001b[0m\u001b[0;34m\u001b[0m\u001b[0;34m\u001b[0m\u001b[0m\n\u001b[0m\u001b[1;32m      2\u001b[0m \u001b[0mprint\u001b[0m\u001b[0;34m(\u001b[0m\u001b[0;34m\"Theta shape:\"\u001b[0m\u001b[0;34m,\u001b[0m \u001b[0mtheta\u001b[0m\u001b[0;34m.\u001b[0m\u001b[0mshape\u001b[0m\u001b[0;34m)\u001b[0m\u001b[0;34m\u001b[0m\u001b[0;34m\u001b[0m\u001b[0m\n",
            "\u001b[0;31mNameError\u001b[0m: name 'X_poly' is not defined"
          ]
        }
      ]
    },
    {
      "cell_type": "code",
      "source": [
        "plt.plot(range(iterations), J_history)\n",
        "plt.xlabel('Iterations')\n",
        "plt.ylabel('Cost')\n",
        "plt.title('Cost History')\n",
        "plt.show()"
      ],
      "metadata": {
        "id": "nQRB-6rMQxPc"
      },
      "execution_count": null,
      "outputs": []
    },
    {
      "cell_type": "markdown",
      "source": [
        "# Failed model-3"
      ],
      "metadata": {
        "id": "GmcgxIHTkeh4"
      }
    },
    {
      "cell_type": "code",
      "source": [
        "X = x_train.reshape(-1,1)\n",
        "X"
      ],
      "metadata": {
        "colab": {
          "base_uri": "https://localhost:8080/"
        },
        "id": "FcJxp6ULs4rc",
        "outputId": "1d53d86d-380d-4aae-e16a-733a8d4ad67b"
      },
      "execution_count": null,
      "outputs": [
        {
          "output_type": "execute_result",
          "data": {
            "text/plain": [
              "array([[ 5.22184894],\n",
              "       [-5.10628445],\n",
              "       [-4.21805344],\n",
              "       ...,\n",
              "       [29.85789417],\n",
              "       [10.79314567],\n",
              "       [12.17170222]])"
            ]
          },
          "metadata": {},
          "execution_count": 236
        }
      ]
    },
    {
      "cell_type": "code",
      "source": [
        "y = y.reshape(len(y),1)\n",
        "y"
      ],
      "metadata": {
        "colab": {
          "base_uri": "https://localhost:8080/"
        },
        "id": "fxHbrO6is4e-",
        "outputId": "0b25dfe3-bfec-446a-bbc5-ac448a77e170"
      },
      "execution_count": null,
      "outputs": [
        {
          "output_type": "execute_result",
          "data": {
            "text/plain": [
              "array([[4.13152828e+06],\n",
              "       [3.17297454e-01],\n",
              "       [4.67642163e+04],\n",
              "       ...,\n",
              "       [3.83560105e+06],\n",
              "       [2.58031768e+04],\n",
              "       [3.46817108e+05]])"
            ]
          },
          "metadata": {},
          "execution_count": 7
        }
      ]
    },
    {
      "cell_type": "code",
      "source": [
        "def poly_features(features, X):\n",
        "  data = pd.DataFrame(np.zeros((X.shape[0],features)))\n",
        "  for i in range(1,features+1):\n",
        "    data.iloc[:,i-1] = (X**i).reshape(-1,1)\n",
        "  X_poly = np.array(data.values.tolist())\n",
        "  return X_poly"
      ],
      "metadata": {
        "id": "TtIl76slkkIw"
      },
      "execution_count": null,
      "outputs": []
    },
    {
      "cell_type": "code",
      "source": [
        "def split_data(X,y,test_size=0.2,random_state=0):\n",
        "    np.random.seed(random_state)\n",
        "    indices = np.random.permutation(len(X))\n",
        "    data_test_size = int(X.shape[0] * test_size)\n",
        "\n",
        "    train_indices = indices[data_test_size:]\n",
        "    test_indices = indices[:data_test_size]\n",
        "    X_train = X[train_indices]\n",
        "    y_train = y[train_indices]\n",
        "    X_test = X[test_indices]\n",
        "    y_test = y[test_indices]\n",
        "    return X_train, y_train, X_test, y_test"
      ],
      "metadata": {
        "id": "iu-OKS5jkj9x"
      },
      "execution_count": null,
      "outputs": []
    },
    {
      "cell_type": "code",
      "source": [
        "def pred_to_plot(predict_func, W_trained, X):\n",
        "    prediction_values = list()\n",
        "    for i in range(X.shape[0]):\n",
        "        value = predict_func(W_trained, X[i])\n",
        "        prediction_values.append(value)\n",
        "    return prediction_values\n"
      ],
      "metadata": {
        "id": "9luYJsg3kj0d"
      },
      "execution_count": null,
      "outputs": []
    },
    {
      "cell_type": "code",
      "source": [
        "class polynomialRegression():\n",
        "\n",
        "  def __init__(self):\n",
        "    # No instance Variables required\n",
        "    pass\n",
        "\n",
        "  def forward(self, X, y, W):\n",
        "    \"\"\"\n",
        "    Parameters:\n",
        "    X (array) : Independent Features\n",
        "    y (array) : Dependent Features/ Target Variable\n",
        "    W (array) : Weights\n",
        "\n",
        "    Returns:\n",
        "    loss (float) : Calculated Squared Error Loss for y and y_pred\n",
        "    y_pred (array) : Predicted Target Variable\n",
        "    \"\"\"\n",
        "    y_pred = np.dot(X, W.T)\n",
        "    loss = np.mean((y_pred - y) ** 2) / 2\n",
        "    return loss, y_pred\n",
        "\n",
        "  def updateWeights(self, X, y_pred, y_true, W, alpha):\n",
        "    \"\"\"\n",
        "    Parameters:\n",
        "    X (array) : Independent Features\n",
        "    y_pred (array) : Predicted Target Variable\n",
        "    y_true (array) : Dependent Features/ Target Variable\n",
        "    W (array) : Weights\n",
        "    alpha (float) : learning rate\n",
        "\n",
        "    Returns:\n",
        "    W (array) : Update Values of Weight\n",
        "    \"\"\"\n",
        "    gradient = np.dot(X.T, (y_pred - y_true)) / len(y_true)\n",
        "    W -= alpha * gradient\n",
        "    return W\n",
        "\n",
        "  def train(self, X, y, epochs=10, alpha=0.001):\n",
        "    \"\"\"\n",
        "    Parameters:\n",
        "    X (array) : Independent Features\n",
        "    y (array) : Dependent Features/ Target Variable\n",
        "    epochs (int) : Number of epochs for training, default value is 10\n",
        "    alpha (float) : learning rate, default value is 0.001\n",
        "\n",
        "    Returns:\n",
        "    W (array) : Trained Weights\n",
        "    train_loss (list) : Calculated Squared Error Loss for y and y_pred during training\n",
        "    \"\"\"\n",
        "    num_features = X.shape[1]\n",
        "    W = np.random.randn(1, num_features) / np.sqrt(num_features)  # Weight Initialization\n",
        "\n",
        "    train_loss = []\n",
        "    for _ in range(epochs):\n",
        "      loss, y_pred = self.forward(X, y, W)\n",
        "      train_loss.append(loss)\n",
        "      W = self.updateWeights(X, y_pred, y, W, alpha)\n",
        "\n",
        "    return W, train_loss\n",
        "\n",
        "  def test(self, X_test, y_test, W_trained):\n",
        "    \"\"\"\n",
        "    Parameters:\n",
        "    X_test (array) : Independent Features from the Test Set\n",
        "    y_test (array) : Dependent Features/ Target Variable from the Test Set\n",
        "    W_trained (array) : Trained Weights\n",
        "\n",
        "    Returns:\n",
        "    test_pred (array) : Predicted Target Variable\n",
        "    test_loss (float) : Calculated Squared Error Loss for y and y_pred on test data\n",
        "    \"\"\"\n",
        "    test_pred = np.dot(X_test, W_trained.T)\n",
        "    test_loss = np.mean((test_pred - y_test) ** 2) / 2\n",
        "    return test_pred, test_loss\n",
        "\n",
        "  def predict(self, W_trained, X_sample):\n",
        "    prediction = np.dot(X_sample, W_trained.T)\n",
        "    return prediction\n",
        "\n",
        "  def plotLoss(self, loss):\n",
        "    \"\"\"\n",
        "    Parameters:\n",
        "    loss (list) : Calculated Squared Error Loss for y and y_pred\n",
        "\n",
        "    Returns: None\n",
        "    Plots a graph of Loss vs Epochs\n",
        "    \"\"\"\n",
        "    plt.plot(loss)\n",
        "    plt.xlabel('Number of Epochs')\n",
        "    plt.ylabel('Loss')\n",
        "    plt.title('Plot Loss')\n",
        "    plt.show()"
      ],
      "metadata": {
        "id": "GT_jRrF7nhss"
      },
      "execution_count": null,
      "outputs": []
    },
    {
      "cell_type": "code",
      "source": [
        "w = np.random.randn(10)"
      ],
      "metadata": {
        "id": "unS0ZEHAwx9X"
      },
      "execution_count": null,
      "outputs": []
    },
    {
      "cell_type": "code",
      "source": [
        "X = poly_features(2,X)"
      ],
      "metadata": {
        "id": "3Anamas2t0o8"
      },
      "execution_count": null,
      "outputs": []
    },
    {
      "cell_type": "code",
      "source": [
        "X = np.concatenate((X,np.ones((50000,1))), axis = 1)\n",
        "X"
      ],
      "metadata": {
        "colab": {
          "base_uri": "https://localhost:8080/"
        },
        "id": "Gnua89DqnhDh",
        "outputId": "40996232-da92-40df-873d-4063a53e17d8"
      },
      "execution_count": null,
      "outputs": [
        {
          "output_type": "execute_result",
          "data": {
            "text/plain": [
              "array([[  5.22184894,  27.26770638,   1.        ],\n",
              "       [ -5.10628445,  26.07414084,   1.        ],\n",
              "       [ -4.21805344,  17.79197485,   1.        ],\n",
              "       ...,\n",
              "       [ 29.85789417, 891.49384423,   1.        ],\n",
              "       [ 10.79314567, 116.49199344,   1.        ],\n",
              "       [ 12.17170222, 148.15033505,   1.        ]])"
            ]
          },
          "metadata": {},
          "execution_count": 17
        }
      ]
    },
    {
      "cell_type": "code",
      "source": [
        "y"
      ],
      "metadata": {
        "colab": {
          "base_uri": "https://localhost:8080/"
        },
        "id": "P5wRCq5UsbJR",
        "outputId": "621cd6a9-af56-4aa1-91f8-d3e7903451e2"
      },
      "execution_count": null,
      "outputs": [
        {
          "output_type": "execute_result",
          "data": {
            "text/plain": [
              "array([4.13152828e+06, 3.17297454e-01, 4.67642163e+04, ...,\n",
              "       3.83560105e+06, 2.58031768e+04, 3.46817108e+05])"
            ]
          },
          "metadata": {},
          "execution_count": 18
        }
      ]
    },
    {
      "cell_type": "code",
      "source": [],
      "metadata": {
        "id": "xkLQv1JIzDTs"
      },
      "execution_count": null,
      "outputs": []
    },
    {
      "cell_type": "code",
      "source": [
        "regressor = polynomialRegression()\n"
      ],
      "metadata": {
        "id": "XPWes8TpvUTQ"
      },
      "execution_count": null,
      "outputs": []
    },
    {
      "cell_type": "code",
      "source": [
        "W_trained, train_loss, num_epochs = regressor.train(X, y, epochs=200, alpha=0.00001)"
      ],
      "metadata": {
        "id": "xKZ1QdBry8Ja"
      },
      "execution_count": null,
      "outputs": []
    },
    {
      "cell_type": "markdown",
      "source": [
        "# Failed model-4"
      ],
      "metadata": {
        "id": "t9F8MEaWx0wW"
      }
    },
    {
      "cell_type": "code",
      "source": [
        "def add_polynomial_features(X):\n",
        "    m, n = X.shape\n",
        "    X_poly = np.ones((m, 1))\n",
        "    for i in range(n):\n",
        "        x = X[:, i:i+1]\n",
        "        x_poly = np.hstack((np.ones((m, 1)), x, x**2))\n",
        "        X_poly = np.hstack((X_poly, x_poly))\n",
        "    return X_poly\n",
        "\n",
        "\n",
        "X_train_poly = add_polynomial_features(x_train)\n",
        "\n",
        "# Add polynomial features to test set\n",
        "X_test_poly = add_polynomial_features(x_test)\n",
        "\n",
        "# Define polynomial regression class\n",
        "class PolynomialRegression:\n",
        "    def __init__(self):\n",
        "        self.W = None\n",
        "\n",
        "    def train(self, X, y, epochs=1000, alpha=0.001):\n",
        "        m, n = X.shape\n",
        "        self.W = np.random.randn(n)  # Initialize weights\n",
        "        for _ in range(epochs):\n",
        "            y_pred = np.dot(X, self.W)\n",
        "            error = y_pred - y\n",
        "            gradient = np.dot(X.T, error) / m\n",
        "            self.W -= alpha * gradient\n",
        "\n",
        "    def predict(self, X):\n",
        "        return np.dot(X, self.W)\n",
        "\n",
        "    def mse(self, y_true, y_pred):\n",
        "        return np.mean((y_true - y_pred)**2)\n",
        "\n",
        "# Train polynomial regression model\n",
        "model = PolynomialRegression()\n",
        "model.train(X_train_poly, y)\n",
        "\n",
        "# Predict on test set\n",
        "y_pred_test = model.predict(X_test_poly)\n",
        "\n",
        "# Calculate MSE on test set\n",
        "mse_test = model.mse(y, y_pred_test)\n",
        "print(\"Test MSE:\", mse_test)"
      ],
      "metadata": {
        "colab": {
          "base_uri": "https://localhost:8080/",
          "height": 358
        },
        "id": "LGimviJWx0M8",
        "outputId": "f965eb79-b2d4-4871-a8f7-fa065a411636"
      },
      "execution_count": null,
      "outputs": [
        {
          "output_type": "stream",
          "name": "stderr",
          "text": [
            "<ipython-input-74-af9b0171ba4c>:28: RuntimeWarning: invalid value encountered in subtract\n",
            "  self.W -= alpha * gradient\n"
          ]
        },
        {
          "output_type": "error",
          "ename": "ValueError",
          "evalue": "operands could not be broadcast together with shapes (50000,) (10000,) ",
          "traceback": [
            "\u001b[0;31m---------------------------------------------------------------------------\u001b[0m",
            "\u001b[0;31mValueError\u001b[0m                                Traceback (most recent call last)",
            "\u001b[0;32m<ipython-input-74-af9b0171ba4c>\u001b[0m in \u001b[0;36m<cell line: 44>\u001b[0;34m()\u001b[0m\n\u001b[1;32m     42\u001b[0m \u001b[0;34m\u001b[0m\u001b[0m\n\u001b[1;32m     43\u001b[0m \u001b[0;31m# Calculate MSE on test set\u001b[0m\u001b[0;34m\u001b[0m\u001b[0;34m\u001b[0m\u001b[0m\n\u001b[0;32m---> 44\u001b[0;31m \u001b[0mmse_test\u001b[0m \u001b[0;34m=\u001b[0m \u001b[0mmodel\u001b[0m\u001b[0;34m.\u001b[0m\u001b[0mmse\u001b[0m\u001b[0;34m(\u001b[0m\u001b[0my\u001b[0m\u001b[0;34m,\u001b[0m \u001b[0my_pred_test\u001b[0m\u001b[0;34m)\u001b[0m\u001b[0;34m\u001b[0m\u001b[0;34m\u001b[0m\u001b[0m\n\u001b[0m\u001b[1;32m     45\u001b[0m \u001b[0mprint\u001b[0m\u001b[0;34m(\u001b[0m\u001b[0;34m\"Test MSE:\"\u001b[0m\u001b[0;34m,\u001b[0m \u001b[0mmse_test\u001b[0m\u001b[0;34m)\u001b[0m\u001b[0;34m\u001b[0m\u001b[0;34m\u001b[0m\u001b[0m\n",
            "\u001b[0;32m<ipython-input-74-af9b0171ba4c>\u001b[0m in \u001b[0;36mmse\u001b[0;34m(self, y_true, y_pred)\u001b[0m\n\u001b[1;32m     32\u001b[0m \u001b[0;34m\u001b[0m\u001b[0m\n\u001b[1;32m     33\u001b[0m     \u001b[0;32mdef\u001b[0m \u001b[0mmse\u001b[0m\u001b[0;34m(\u001b[0m\u001b[0mself\u001b[0m\u001b[0;34m,\u001b[0m \u001b[0my_true\u001b[0m\u001b[0;34m,\u001b[0m \u001b[0my_pred\u001b[0m\u001b[0;34m)\u001b[0m\u001b[0;34m:\u001b[0m\u001b[0;34m\u001b[0m\u001b[0;34m\u001b[0m\u001b[0m\n\u001b[0;32m---> 34\u001b[0;31m         \u001b[0;32mreturn\u001b[0m \u001b[0mnp\u001b[0m\u001b[0;34m.\u001b[0m\u001b[0mmean\u001b[0m\u001b[0;34m(\u001b[0m\u001b[0;34m(\u001b[0m\u001b[0my_true\u001b[0m \u001b[0;34m-\u001b[0m \u001b[0my_pred\u001b[0m\u001b[0;34m)\u001b[0m\u001b[0;34m**\u001b[0m\u001b[0;36m2\u001b[0m\u001b[0;34m)\u001b[0m\u001b[0;34m\u001b[0m\u001b[0;34m\u001b[0m\u001b[0m\n\u001b[0m\u001b[1;32m     35\u001b[0m \u001b[0;34m\u001b[0m\u001b[0m\n\u001b[1;32m     36\u001b[0m \u001b[0;31m# Train polynomial regression model\u001b[0m\u001b[0;34m\u001b[0m\u001b[0;34m\u001b[0m\u001b[0m\n",
            "\u001b[0;31mValueError\u001b[0m: operands could not be broadcast together with shapes (50000,) (10000,) "
          ]
        }
      ]
    }
  ]
}